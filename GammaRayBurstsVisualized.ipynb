{
 "cells": [
  {
   "cell_type": "markdown",
   "metadata": {},
   "source": [
    "# Visualizing GRB areas in TESS Sectors"
   ]
  },
  {
   "cell_type": "code",
   "execution_count": 1,
   "metadata": {},
   "outputs": [],
   "source": [
    "import numpy as np\n",
    "from astropy.io import fits\n",
    "import matplotlib.pyplot as plt\n",
    "import matplotlib.colors as colors\n",
    "import matplotlib.animation as animation\n",
    "from IPython.display import HTML"
   ]
  },
  {
   "cell_type": "markdown",
   "metadata": {},
   "source": [
    "## Looking at a postage stamp 25x25 pixels around RA 49.19939 DEC -58.53253"
   ]
  },
  {
   "cell_type": "code",
   "execution_count": 51,
   "metadata": {},
   "outputs": [],
   "source": [
    "inputfile = 'tess-s0002-3-4_49.19939_-58.53253_25x25_astrocut.fits'\n",
    "# step 1: read in the data\n",
    "def getFITSdata(tessfile):\n",
    "    fitsfile = fits.open(tessfile)\n",
    "    headerdata = fitsfile[0].header\n",
    "    checkdata = fitsfile[1].data\n",
    "    fitsfile.close()\n",
    "    pixeldata = np.asarray(checkdata)\n",
    "    return (headerdata, pixeldata, checkdata)\n",
    "\n",
    "header, pixels, check = getFITSdata(inputfile)\n",
    "\n",
    "fig, ax = plt.subplots(1, 2, figsize=(9, 4))\n",
    "fig.suptitle('Sector 2 GRB', fontsize=20)\n",
    "\n",
    "ax_im = ax[0]\n",
    "ax_diff = ax[1]\n",
    "\n",
    "Z = np.stack(pixels['FLUX'][0])\n",
    "im_im = ax_im.imshow(Z, norm=colors.LogNorm(vmin=Z.min(), vmax=Z.max()),\n",
    "                   cmap='PuBu_r', animated=True)\n",
    "im_diff = ax_diff.imshow(Z, norm=colors.LogNorm(vmin=Z.min(), vmax=Z.max()),\n",
    "                   cmap='PuBu_r', animated=True)\n",
    "\n",
    "ax_im.set_title('Raw Flux from FFI - LogNorm')\n",
    "ax_diff.set_title('Diff Flux: Changes - LogNorm')\n",
    "ax_im.set_yticklabels([])\n",
    "ax_im.set_xticklabels([])\n",
    "ax_diff.set_yticklabels([])\n",
    "ax_diff.set_xticklabels([])\n",
    "\n",
    "def updatefig(idx):\n",
    "    image0 = np.stack(pixels['FLUX'][idx])\n",
    "    try:\n",
    "        imageN = np.stack(pixels['FLUX'][idx + 1])\n",
    "    except IndexError:\n",
    "        imageN = np.stack(pixels['FLUX'][idx])\n",
    "    except Exception as ex:\n",
    "        print('There was a different problem: ' + str(ex))\n",
    "        \n",
    "    im_im.set_array(image0)\n",
    "    \n",
    "    im_diff.set_array(np.subtract(imageN, image0))\n",
    "    \n",
    "    return im_im, \n",
    "\n",
    "ani = animation.FuncAnimation(fig, updatefig, frames=len(pixels), blit=True, repeat=True, interval=400)\n",
    "plt.close(fig)\n",
    "HTML(ani.to_html5_video())\n",
    "ani.save('animation_s2_49-58.mp4')\n",
    "    "
   ]
  },
  {
   "cell_type": "code",
   "execution_count": 38,
   "metadata": {},
   "outputs": [
    {
     "data": {
      "text/plain": [
       "<matplotlib.image.AxesImage at 0x7f5c3bba6b00>"
      ]
     },
     "execution_count": 38,
     "metadata": {},
     "output_type": "execute_result"
    },
    {
     "data": {
      "image/png": "[encoded data removed]",
      "text/plain": [
       "<Figure size 432x288 with 1 Axes>"
      ]
     },
     "metadata": {
      "needs_background": "light"
     },
     "output_type": "display_data"
    }
   ],
   "source": [
    "Z = np.stack(pixels['FLUX'][0])\n",
    "plt.imshow(Z)"
   ]
  },
  {
   "cell_type": "code",
   "execution_count": 40,
   "metadata": {},
   "outputs": [
    {
     "data": {
      "text/plain": [
       "<matplotlib.collections.PolyCollection at 0x7f5c3bc18c88>"
      ]
     },
     "execution_count": 40,
     "metadata": {},
     "output_type": "execute_result"
    },
    {
     "data": {
      "image/png": "[encoded data removed]",
      "text/plain": [
       "<Figure size 432x288 with 1 Axes>"
      ]
     },
     "metadata": {
      "needs_background": "light"
     },
     "output_type": "display_data"
    }
   ],
   "source": [
    "x = np.arange(0, 25)\n",
    "y = np.arange(0, 25).reshape(-1, 1)\n",
    "plt.pcolor(x, y, Z)"
   ]
  }
 ],
 "metadata": {
  "kernelspec": {
   "display_name": "Python 3",
   "language": "python",
   "name": "python3"
  },
  "language_info": {
   "codemirror_mode": {
    "name": "ipython",
    "version": 3
   },
   "file_extension": ".py",
   "mimetype": "text/x-python",
   "name": "python",
   "nbconvert_exporter": "python",
   "pygments_lexer": "ipython3",
   "version": "3.6.7"
  }
 },
 "nbformat": 4,
 "nbformat_minor": 2
}
